{
 "cells": [
  {
   "cell_type": "code",
   "execution_count": 1,
   "metadata": {},
   "outputs": [],
   "source": [
    "import random\n",
    "from collections import defaultdict"
   ]
  },
  {
   "cell_type": "code",
   "execution_count": 8,
   "metadata": {},
   "outputs": [],
   "source": [
    "corpus = [\n",
    "    \"the cat sat on the mat\",\n",
    "    \"the dog sat on the mat\",\n",
    "    \"the cat chased the dog\",\n",
    "    \"the dog chased the cat\"\n",
    "]\n"
   ]
  },
  {
   "cell_type": "code",
   "execution_count": 9,
   "metadata": {},
   "outputs": [],
   "source": [
    "bigram_model = defaultdict(list)\n",
    "for sentence in corpus:\n",
    "    \n",
    "    words = sentence.split() # split into words\n",
    "    \n",
    "    for i in range(len(words)-1):\n",
    "        bigram_model[words[i]].append(words[i + 1])\n",
    "    "
   ]
  },
  {
   "cell_type": "code",
   "execution_count": 10,
   "metadata": {},
   "outputs": [
    {
     "data": {
      "text/plain": [
       "defaultdict(list,\n",
       "            {'the': ['cat', 'mat', 'dog', 'mat', 'cat', 'dog', 'dog', 'cat'],\n",
       "             'cat': ['sat', 'chased'],\n",
       "             'sat': ['on', 'on'],\n",
       "             'on': ['the', 'the'],\n",
       "             'dog': ['sat', 'chased'],\n",
       "             'chased': ['the', 'the']})"
      ]
     },
     "execution_count": 10,
     "metadata": {},
     "output_type": "execute_result"
    }
   ],
   "source": [
    "# store the all possible next words for each word in whole corpus\n",
    "bigram_model"
   ]
  }
 ],
 "metadata": {
  "kernelspec": {
   "display_name": "base",
   "language": "python",
   "name": "python3"
  },
  "language_info": {
   "codemirror_mode": {
    "name": "ipython",
    "version": 3
   },
   "file_extension": ".py",
   "mimetype": "text/x-python",
   "name": "python",
   "nbconvert_exporter": "python",
   "pygments_lexer": "ipython3",
   "version": "3.12.2"
  }
 },
 "nbformat": 4,
 "nbformat_minor": 2
}
