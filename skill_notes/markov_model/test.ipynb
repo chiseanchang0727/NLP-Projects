{
 "cells": [
  {
   "cell_type": "code",
   "execution_count": 1,
   "metadata": {},
   "outputs": [],
   "source": [
    "import pandas as pd\n",
    "from datetime import datetime\n",
    "import pytz"
   ]
  },
  {
   "cell_type": "code",
   "execution_count": 2,
   "metadata": {},
   "outputs": [],
   "source": [
    "def tz_to_texas(tp_time,  fmt=\"%Y-%m-%d %H:%M:%S\"):\n",
    "    tz_tp = pytz.timezone('Asia/Taipei')\n",
    "    tz_texas = pytz.timezone('America/Chicago')\n",
    "    \n",
    "    # Parse Taipei time\n",
    "    taipei_time = datetime.strptime(tp_time, fmt)\n",
    "    taipei_time = tz_tp.localize(taipei_time)\n",
    "    \n",
    "    # Convert to Texas time\n",
    "    texas_time = taipei_time.astimezone(tz_texas)\n",
    "    \n",
    "    return texas_time.strftime(fmt)\n",
    "    "
   ]
  },
  {
   "cell_type": "code",
   "execution_count": 8,
   "metadata": {},
   "outputs": [
    {
     "data": {
      "text/plain": [
       "'2025-02-15 06:55:00'"
      ]
     },
     "execution_count": 8,
     "metadata": {},
     "output_type": "execute_result"
    }
   ],
   "source": [
    "tz_to_texas(\"2025-02-15 20:55:00\")"
   ]
  },
  {
   "cell_type": "code",
   "execution_count": 3,
   "metadata": {},
   "outputs": [
    {
     "name": "stdout",
     "output_type": "stream",
     "text": [
      "Taipei Time: 2025-02-16 22:00:00 -> Texas Time: 2025-02-16 08:00:00\n",
      "Taipei Time: 2025-02-16 23:00:00 -> Texas Time: 2025-02-16 09:00:00\n",
      "Taipei Time: 2025-02-17 01:00:00 -> Texas Time: 2025-02-16 11:00:00\n",
      "Taipei Time: 2025-02-17 10:00:00 -> Texas Time: 2025-02-16 20:00:00\n",
      "Taipei Time: 2025-02-17 12:00:00 -> Texas Time: 2025-02-16 22:00:00\n"
     ]
    }
   ],
   "source": [
    "# Example usage:\n",
    "taipei_times = [\n",
    "    \"2025-02-16 22:00:00\", \n",
    "    \"2025-02-16 23:00:00\", \n",
    "    \"2025-02-17 01:00:00\",\n",
    "    \"2025-02-17 10:00:00\",\n",
    "    \"2025-02-17 12:00:00\",\n",
    "\n",
    "]\n",
    "\n",
    "# Convert and print results\n",
    "for taipei_time in taipei_times:\n",
    "    texas_time = tz_to_texas(taipei_time)\n",
    "    print(f\"Taipei Time: {taipei_time} -> Texas Time: {texas_time}\")"
   ]
  },
  {
   "cell_type": "code",
   "execution_count": 9,
   "metadata": {},
   "outputs": [
    {
     "name": "stdout",
     "output_type": "stream",
     "text": [
      "\n",
      "        Taipei: 2025-02-17 10:00:00 ~ 2025-02-17 12:00:00\n",
      "        equals to\n",
      "        Texas: 2025-02-16 20:00:00 ~ 2025-02-16 22:00:00\n",
      "        \n",
      "\n",
      "        Taipei: 2025-02-22 10:00:00 ~ 2025-02-22 13:00:00\n",
      "        equals to\n",
      "        Texas: 2025-02-21 20:00:00 ~ 2025-02-21 23:00:00\n",
      "        \n",
      "\n",
      "        Taipei: 2025-02-23 22:00:00 ~ 2025-02-24 00:00:00\n",
      "        equals to\n",
      "        Texas: 2025-02-23 08:00:00 ~ 2025-02-23 10:00:00\n",
      "        \n"
     ]
    }
   ],
   "source": [
    "tp_times = [\n",
    "    (\"2025-02-17 10:00:00\", \"2025-02-17 12:00:00\"),\n",
    "    (\"2025-02-22 10:00:00\", \"2025-02-22 13:00:00\"),\n",
    "    (\"2025-02-23 22:00:00\", \"2025-02-24 00:00:00\"),\n",
    "]\n",
    "\n",
    "for (time1, time2) in tp_times:\n",
    "    texas_1 = tz_to_texas(time1)\n",
    "    texas_2 = tz_to_texas(time2)\n",
    "    \n",
    "    print(\n",
    "        f\"\"\"\n",
    "        Taipei: {time1} ~ {time2}\n",
    "        equals to\n",
    "        Texas: {texas_1} ~ {texas_2}\n",
    "        \"\"\"\n",
    "    )"
   ]
  },
  {
   "cell_type": "code",
   "execution_count": 10,
   "metadata": {},
   "outputs": [
    {
     "name": "stdout",
     "output_type": "stream",
     "text": [
      "\n",
      "        Taipei: 2025-03-01 22:00:00 ~ 2025-03-02 00:00:00\n",
      "        equals to\n",
      "        Texas: 2025-03-01 08:00:00 ~ 2025-03-01 10:00:00\n",
      "        \n",
      "\n",
      "        Taipei: 2025-03-02 08:00:00 ~ 2025-03-02 13:00:00\n",
      "        equals to\n",
      "        Texas: 2025-03-01 18:00:00 ~ 2025-03-01 23:00:00\n",
      "        \n",
      "\n",
      "        Taipei: 2025-03-02 22:00:00 ~ 2025-03-03 00:00:00\n",
      "        equals to\n",
      "        Texas: 2025-03-02 08:00:00 ~ 2025-03-02 10:00:00\n",
      "        \n"
     ]
    }
   ],
   "source": [
    "tp_times = [\n",
    "    (\"2025-03-01 22:00:00\", \"2025-03-02 00:00:00\"),\n",
    "    (\"2025-03-02 08:00:00\", \"2025-03-02 13:00:00\"),\n",
    "    (\"2025-03-02 22:00:00\", \"2025-03-03 00:00:00\")\n",
    "    \n",
    "]\n",
    "\n",
    "for (time1, time2) in tp_times:\n",
    "    texas_1 = tz_to_texas(time1)\n",
    "    texas_2 = tz_to_texas(time2)\n",
    "    \n",
    "    print(\n",
    "        f\"\"\"\n",
    "        Taipei: {time1} ~ {time2}\n",
    "        equals to\n",
    "        Texas: {texas_1} ~ {texas_2}\n",
    "        \"\"\"\n",
    "    )"
   ]
  }
 ],
 "metadata": {
  "kernelspec": {
   "display_name": "base",
   "language": "python",
   "name": "python3"
  },
  "language_info": {
   "codemirror_mode": {
    "name": "ipython",
    "version": 3
   },
   "file_extension": ".py",
   "mimetype": "text/x-python",
   "name": "python",
   "nbconvert_exporter": "python",
   "pygments_lexer": "ipython3",
   "version": "3.12.2"
  }
 },
 "nbformat": 4,
 "nbformat_minor": 2
}
